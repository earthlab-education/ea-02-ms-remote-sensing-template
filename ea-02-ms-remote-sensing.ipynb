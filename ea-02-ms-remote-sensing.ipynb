{
 "cells": [
  {
   "cell_type": "markdown",
   "metadata": {},
   "source": [
    "<img style=\"float: left;\" src=\"earth-lab-logo-rgb.png\" width=\"150\" height=\"150\" />\n",
    "\n",
    "# Earth Analytics Education"
   ]
  },
  {
   "cell_type": "markdown",
   "metadata": {},
   "source": [
    "## Important  - Assignment Guidelines\n",
    "\n",
    "1. Before you submit your assignment to GitHub, make sure to run the entire notebook with a fresh kernel. To do this first, **restart the kernel** (in the menubar, select Kernel$\\rightarrow$Restart & Run All)\n",
    "2. Always replace the `raise NotImplementedError()` code with your code that addresses the activity challenge. If you don't replace that code, your notebook will not run.\n",
    "\n",
    "```\n",
    "# YOUR CODE HERE\n",
    "raise NotImplementedError()\n",
    "```\n",
    "\n",
    "3. Any open ended questions will have a \"YOUR ANSWER HERE\" within a markdown cell. Replace that text with your answer also formatted using Markdown.\n",
    "4. **DO NOT RENAME THIS NOTEBOOK File!** If the file name changes, the autograder will not grade your assignment properly.\n",
    "\n",
    "* Only include the package imports, code, and outputs that are required to run your homework assignment.\n",
    "* Be sure that your code can be run on any operating system. This means that:\n",
    "   1. the data should be downloaded in the notebook to ensure it's reproducible\n",
    "   2. all paths should be created dynamically using the `os.path.join`\n",
    "   3. sort lists of dated files even if they are sorted correctly by default on your machine\n",
    "\n",
    "## Follow to PEP 8 Syntax Guidelines & Documentation\n",
    "\n",
    "* Run the `autopep8` tool on all cells prior to submitting (HINT: hit shift + the tool to run it on all cells at once!\n",
    "* Use clear and expressive names for variables. \n",
    "* Organize your code to support readability.\n",
    "* Check for code line length\n",
    "* Use comments and white space sparingly where it is needed\n",
    "* Make sure all python imports are at the top of your notebook and follow PEP 8 order conventions\n",
    "* Spell check your Notebook before submitting it.\n",
    "\n",
    "For all of the plots below, be sure to do the following:\n",
    "\n",
    "* Make sure each plot has a clear TITLE and, where appropriate, label the x and y axes. Be sure to include UNITS in your labels.\n"
   ]
  },
  {
   "cell_type": "markdown",
   "metadata": {},
   "source": [
    "### Add Your Name Below \n",
    "**Your Name:**"
   ]
  },
  {
   "cell_type": "markdown",
   "metadata": {},
   "source": [
    "<img style=\"float: left;\" src=\"colored-bar.png\"/>"
   ]
  },
  {
   "cell_type": "markdown",
   "metadata": {},
   "source": [
    "---"
   ]
  },
  {
   "cell_type": "markdown",
   "metadata": {
    "deletable": false,
    "editable": false,
    "nbgrader": {
     "cell_type": "markdown",
     "checksum": "5aa5a9a711ceee092a1dacd876566603",
     "grade": false,
     "grade_id": "hw-instructions",
     "locked": true,
     "schema_version": 3,
     "solution": false,
     "task": false
    },
    "tags": [
     "hide"
    ]
   },
   "source": [
    "# Introduction to Multispectral Remote Sensing Data: Cold Springs Fire\n",
    "\n",
    "For this assignment, you will visualize changes in vegetation health caused by the **2016 Cold Springs Fire in Colorado**. There is an earthpy data subset that contains these data, but for this assignment *you must download the data using APIs*.\n",
    "\n",
    "## Get set up\n",
    "### Package imports\n",
    "Use the cell below to import the packages you need in the rest of the notebook (and **ONLY** the packages you need in the rest of the notebook)."
   ]
  },
  {
   "cell_type": "code",
   "execution_count": null,
   "metadata": {
    "deletable": false,
    "extensions": {
     "jupyter_dashboards": {
      "version": 1,
      "views": {
       "grid_default": {},
       "report_default": {
        "hidden": true
       }
      }
     }
    },
    "nbgrader": {
     "cell_type": "code",
     "checksum": "08564e1c4fb2408fdcc6ace8e47e0dd4",
     "grade": true,
     "grade_id": "imports-answer",
     "locked": false,
     "points": 3,
     "schema_version": 3,
     "solution": true,
     "task": false
    },
    "tags": [
     "hide"
    ]
   },
   "outputs": [],
   "source": [
    "# Import required for tests\n",
    "import numpy as np\n",
    "\n",
    "# YOUR CODE HERE\n",
    "raise NotImplementedError()"
   ]
  },
  {
   "cell_type": "markdown",
   "metadata": {
    "deletable": false,
    "editable": false,
    "nbgrader": {
     "cell_type": "markdown",
     "checksum": "428024a3e222ae315fcd3111feec4553",
     "grade": false,
     "grade_id": "cell-7b4014d8cfc82ba1",
     "locked": true,
     "points": 2,
     "schema_version": 3,
     "solution": false,
     "task": true
    }
   },
   "source": [
    "### Working directory\n",
    "\n",
    "Please put all your files into the `~/earth-analytics/data/cold-springs` directory to facilitate the reproducibility of your notebook. Use the cell below for any code needed to **cleanly** place all your files into that directory."
   ]
  },
  {
   "cell_type": "code",
   "execution_count": null,
   "metadata": {
    "deletable": false,
    "nbgrader": {
     "cell_type": "code",
     "checksum": "f64dddc46b8a6fb557a1dc4e0408fbc5",
     "grade": false,
     "grade_id": "cell-d12858d72e1eed91",
     "locked": false,
     "schema_version": 3,
     "solution": true,
     "task": false
    }
   },
   "outputs": [],
   "source": [
    "# YOUR CODE HERE\n",
    "raise NotImplementedError()"
   ]
  },
  {
   "cell_type": "markdown",
   "metadata": {
    "deletable": false,
    "editable": false,
    "nbgrader": {
     "cell_type": "markdown",
     "checksum": "e48fb6431833f07acce3e976c08fab45",
     "grade": false,
     "grade_id": "cell-983a533d65c34a15",
     "locked": true,
     "points": 7,
     "schema_version": 3,
     "solution": false,
     "task": true
    }
   },
   "source": [
    "## Site Description\n",
    "\n",
    "Write a description of the Cold Springs, CO site and the 2016 fire event. A site description should include at minimum information about:\n",
    "  * climate\n",
    "  * vegetation\n",
    "  * location and dates of the fire event\n",
    "  * impacts of the fire event\n",
    "\n",
    "Consult [this chapter describing the Cold Springs fire data](https://www.earthdatascience.org/courses/use-data-open-source-python/data-stories/cold-springs-wildfire/) as well as other articles or papers you may find. Make sure to cite your sources."
   ]
  },
  {
   "cell_type": "markdown",
   "metadata": {},
   "source": []
  },
  {
   "cell_type": "markdown",
   "metadata": {
    "deletable": false,
    "editable": false,
    "nbgrader": {
     "cell_type": "markdown",
     "checksum": "c9db9a32eae87fbd3b67210f6f1180b1",
     "grade": false,
     "grade_id": "cell-f1ce6f1670befec0",
     "locked": true,
     "schema_version": 3,
     "solution": false,
     "task": false
    }
   },
   "source": [
    "## Fire perimeter\n",
    "\n",
    "The Cold Springs Fire perimeter can be downloaded from the GeoMAC API and geopandas using the following url:\n",
    "\n",
    "https://services3.arcgis.com/T4QMspbfLg3qTGWY/arcgis/rest/services/Historic_Geomac_Perimeters_Combined_2000_2018/FeatureServer/0/query?where=%20incidentname%20%3D%20'COLD%20SPRINGS'%20AND%20state%20%3D%20'CO'&outFields=*&outSR=4326&f=json"
   ]
  },
  {
   "cell_type": "markdown",
   "metadata": {
    "deletable": false,
    "nbgrader": {
     "cell_type": "markdown",
     "checksum": "d5f8a08cad09a58b58cd9a0002797ed0",
     "grade": true,
     "grade_id": "cell-5ec8578d82156dfe",
     "locked": false,
     "points": 3,
     "schema_version": 3,
     "solution": true,
     "task": false
    }
   },
   "source": [
    "YOUR ANSWER HERE"
   ]
  },
  {
   "cell_type": "markdown",
   "metadata": {
    "deletable": false,
    "editable": false,
    "nbgrader": {
     "cell_type": "markdown",
     "checksum": "0deaa0372f581025b1ab0912985b79d4",
     "grade": false,
     "grade_id": "cell-1846e72bf14e7674",
     "locked": true,
     "points": 5,
     "schema_version": 3,
     "solution": false,
     "task": true
    }
   },
   "source": [
    "### Download and cache the fire perimeter\n",
    "In the cell below, **download and cache** the Cold Springs Fire perimeter. Call your `GeoDataFrame` at the bottom of the cell for testing.\n",
    "\n",
    "**You will need a boundary shapefile to download the NAIP data - save one at this time**"
   ]
  },
  {
   "cell_type": "code",
   "execution_count": null,
   "metadata": {
    "deletable": false,
    "nbgrader": {
     "cell_type": "code",
     "checksum": "7cb138cac41670cb7d7f0abdc49afa85",
     "grade": false,
     "grade_id": "cell-201d0660ebdc2405",
     "locked": false,
     "schema_version": 3,
     "solution": true,
     "task": false
    }
   },
   "outputs": [],
   "source": [
    "# YOUR CODE HERE\n",
    "raise NotImplementedError()"
   ]
  },
  {
   "cell_type": "code",
   "execution_count": null,
   "metadata": {
    "deletable": false,
    "editable": false,
    "nbgrader": {
     "cell_type": "code",
     "checksum": "b5d42fa428dede61579fa210220ed19f",
     "grade": true,
     "grade_id": "tests-gdf",
     "locked": true,
     "points": 5,
     "schema_version": 3,
     "solution": false,
     "task": false
    }
   },
   "outputs": [],
   "source": [
    "# BEGIN TESTS\n",
    "student_gdf = _\n",
    "\n",
    "student_gdf_points = 0\n",
    "\n",
    "if isinstance(student_gdf, gpd.GeoDataFrame):\n",
    "    print(\"\\u2705 Great job! Your data are stored in a GeoDataFrame!\")\n",
    "    student_gdf_points += 1\n",
    "else:\n",
    "    print(\"\\u274C Oops, the data are not stored in a GeoDataFrame.\")\n",
    "\n",
    "if round(student_gdf.to_crs(3857).length.sum(), 2)==14922.59:\n",
    "    student_gdf_points += 4\n",
    "    print(\"\\u2705 You downloaded the correct fire boundary, good job!\")\n",
    "else:\n",
    "    print(\"\\u274C The data were not downloaded correctly.\")\n",
    "\n",
    "print('You earned {} of 5 points'.format(student_gdf_points))\n",
    "student_gdf_points\n",
    "# END TESTS"
   ]
  },
  {
   "cell_type": "markdown",
   "metadata": {
    "deletable": false,
    "editable": false,
    "nbgrader": {
     "cell_type": "markdown",
     "checksum": "a70d338836a73c6386f5cec030060fad",
     "grade": false,
     "grade_id": "cell-ee1cbfc176950ffb",
     "locked": true,
     "points": 5,
     "schema_version": 3,
     "solution": false,
     "task": true
    }
   },
   "source": [
    "### Site Map\n",
    "In the cell below, make a plot of your fire perimeter."
   ]
  },
  {
   "cell_type": "code",
   "execution_count": null,
   "metadata": {},
   "outputs": [],
   "source": []
  },
  {
   "cell_type": "markdown",
   "metadata": {
    "deletable": false,
    "editable": false,
    "nbgrader": {
     "cell_type": "markdown",
     "checksum": "29cbc53b537c6889ac18c3d8187be86f",
     "grade": false,
     "grade_id": "task-ms",
     "locked": true,
     "points": 10,
     "schema_version": 3,
     "solution": false,
     "task": true
    }
   },
   "source": [
    "## Multispectral Data\n",
    "\n",
    "Use multispectral data from the [National Agricuture Imagery Program](https://naip-usdaonline.hub.arcgis.com/) for this analysis. Multispectral imagery can be enhanced using [false color images](https://earthobservatory.nasa.gov/features/FalseColor/page6.php) or [spectral indices]() in order to highlight phenomena such as vegetation health, wetness, or heat. In this analysis, you will produce a color infrared (CIR) false color image as well as a normalized difference vegetation index (NDVI) image. Both of these methods will enhance differences in vegetation health captured by the data.\n",
    "\n",
    "In the cell below, describe these data, including a citation. \n",
    "\n",
    "The data that you will use for this week are available from **Earth Explorer**. Download the data manually using [textbook instructions](https://www.earthdatascience.org/courses/use-data-open-source-python/multispectral-remote-sensing/intro-naip/get-naip-data-earth-explorer/)\n",
    "\n",
    "  \n",
    "In the cell below, explain how the user can access the data. Provide an overview of the data source, a citation, and **COMPLETE** download instructions. Instructions should include any required information not already available in the code, including:\n",
    " - working urls\n",
    " - all necessary parameters\n",
    " - the path at which to save the data."
   ]
  },
  {
   "cell_type": "markdown",
   "metadata": {},
   "source": []
  },
  {
   "cell_type": "markdown",
   "metadata": {
    "deletable": false,
    "editable": false,
    "nbgrader": {
     "cell_type": "markdown",
     "checksum": "0b2d59b55e84272b53e7e8799e82dd84",
     "grade": false,
     "grade_id": "cell-5d4ec300a351d5e3",
     "locked": true,
     "points": 0,
     "schema_version": 3,
     "solution": false,
     "task": true
    }
   },
   "source": [
    "## Load in your data\n",
    "Use the cell below to:\n",
    " - Load data in using `rxr.open_rasterio`\n",
    " - Clip the data to the fire boundary **envelope**\n",
    " - Add the date to each Dataset\n",
    " - Label the bands of your Dataset\n",
    " - Concatenate your Datasets\n",
    " \n",
    "Hints:\n",
    "   - You can use the glob package to get the full paths to any .tif files in your working directory.\n",
    "   - `DataArray.assign_coords()` can be used to add a date dimension\n",
    "   - If you clip to the fire boundary itself, you will not be able to compare measurements inside and outside the boundary!"
   ]
  },
  {
   "cell_type": "code",
   "execution_count": null,
   "metadata": {
    "deletable": false,
    "nbgrader": {
     "cell_type": "code",
     "checksum": "028c100ef244a1fc2f82f0135c7504fc",
     "grade": false,
     "grade_id": "cell-03d34799c96a3e50",
     "locked": false,
     "schema_version": 3,
     "solution": true,
     "task": false
    }
   },
   "outputs": [],
   "source": [
    "# YOUR CODE HERE\n",
    "raise NotImplementedError()"
   ]
  },
  {
   "cell_type": "code",
   "execution_count": null,
   "metadata": {
    "deletable": false,
    "editable": false,
    "nbgrader": {
     "cell_type": "code",
     "checksum": "949124b1048d024def1d196b7e23ad37",
     "grade": true,
     "grade_id": "naip-data-tests",
     "locked": true,
     "points": 5,
     "schema_version": 3,
     "solution": false,
     "task": false
    }
   },
   "outputs": [],
   "source": [
    "# Tests for your cropped Xarray\n",
    "# BEGIN TESTS\n",
    "student_cropped_xarray = _\n",
    "cropped_xarray_points = 0\n",
    "\n",
    "if isinstance(student_cropped_xarray, xr.DataArray):\n",
    "    print(\"\\u2705 Great job! Your data are stored in a DataArray!\")\n",
    "    cropped_xarray_points += 1\n",
    "else:\n",
    "    print(\"\\u274C Oops, the data are not stored in a DataArray.\")\n",
    "\n",
    "if np.allclose(student_cropped_xarray.rio.bounds(), \n",
    "               (457660.0, 4425152.0, 461035.0, 4426430.0)):\n",
    "    cropped_xarray_points += 4\n",
    "    print(\"\\u2705 Data was cropped properly, good job!\")\n",
    "else:\n",
    "    print(\"\\u274C The data was not cropped properly.\")\n",
    "    \n",
    "print('You earned {} of 5 points'.format(cropped_xarray_points))\n",
    "cropped_xarray_points\n",
    "# END TESTS"
   ]
  },
  {
   "cell_type": "markdown",
   "metadata": {
    "deletable": false,
    "editable": false,
    "nbgrader": {
     "cell_type": "markdown",
     "checksum": "d29222d0af47e8eea9fa6dfd33407f52",
     "grade": false,
     "grade_id": "bar-1",
     "locked": true,
     "schema_version": 3,
     "solution": false,
     "task": false
    }
   },
   "source": [
    "![Colored Bar](colored-bar.png)"
   ]
  },
  {
   "cell_type": "markdown",
   "metadata": {
    "deletable": false,
    "editable": false,
    "extensions": {
     "jupyter_dashboards": {
      "version": 1,
      "views": {
       "grid_default": {},
       "report_default": {
        "hidden": false
       }
      }
     }
    },
    "nbgrader": {
     "cell_type": "markdown",
     "checksum": "5b39f50d89fe98d79a5915ae5be4a309",
     "grade": false,
     "grade_id": "naip-plots-instructions",
     "locked": true,
     "points": 20,
     "schema_version": 3,
     "solution": false,
     "task": true
    }
   },
   "source": [
    "# RGB & CIR Images\n",
    "\n",
    "In the cell below, produce a figure that:\n",
    "  - Has four panels: RGB and CIR images from pre- and post-fire Cold Springs, CO, plotted using xr.plot.imshow or et.plot_bands.\n",
    "  - Displays the fire boundary on **each** image\n",
    "  - Has five labels: Each panel and the entire figure\n",
    "  - Contains an additional text overlay with the data source (NAIP)\n",
    "\n",
    "### Hints \n",
    "\n",
    "* Make sure that you use the correct bands to create both images.\n",
    "    * In a CIR image, the:\n",
    "      * Infrared band will appear red.\n",
    "      * Red band will appear green.\n",
    "      * Green band will appear blue.\n",
    "* `ax.text()` can be used to create data labels\n",
    "* Use for loops and/or functions to keep your code DRY\n",
    "* The default spatial interpolation method results in floating point numbers 0-255, which is not compatible with `imshow()`. You may either:\n",
    "   * Divide by 255 to get floating point numbers between 0 and 1\n",
    "   * Go back and reproject using the `'nearest'` method so that the data remain integers."
   ]
  },
  {
   "cell_type": "code",
   "execution_count": null,
   "metadata": {
    "caption": "Homework plots 1 & 2 RGB and CIR images using NAIP data from 2017.",
    "deletable": false,
    "extensions": {
     "jupyter_dashboards": {
      "version": 1,
      "views": {
       "grid_default": {},
       "report_default": {
        "hidden": false
       }
      }
     }
    },
    "nbgrader": {
     "cell_type": "code",
     "checksum": "fab15ebe3fb752c4194c6d54da23df53",
     "grade": false,
     "grade_id": "cell-b1709ea7da3548a8",
     "locked": false,
     "schema_version": 3,
     "solution": true,
     "task": false
    },
    "tags": [
     "hide"
    ]
   },
   "outputs": [],
   "source": [
    "# YOUR CODE HERE\n",
    "raise NotImplementedError()"
   ]
  },
  {
   "cell_type": "markdown",
   "metadata": {
    "deletable": false,
    "editable": false,
    "nbgrader": {
     "cell_type": "markdown",
     "checksum": "32a7a35710988282c5544a6934627ef8",
     "grade": false,
     "grade_id": "naip-plot-written-question",
     "locked": true,
     "points": 5,
     "schema_version": 3,
     "solution": false,
     "task": true
    }
   },
   "source": [
    "## Question 1 (5 points)\n",
    "\n",
    "1. What does the CIR image highlight?\n",
    "2. Which band, and which the wavelengths contained in that band, allow a CIR image to highlight the thing that you identified above?\n",
    "\n",
    "Answer the questions in the Markdown cell below.\n"
   ]
  },
  {
   "cell_type": "markdown",
   "metadata": {},
   "source": []
  },
  {
   "cell_type": "markdown",
   "metadata": {
    "deletable": false,
    "editable": false,
    "nbgrader": {
     "cell_type": "markdown",
     "checksum": "9b74df344de4dc6d114332cafe7b252d",
     "grade": false,
     "grade_id": "cell-fe4f31545aff27ec",
     "locked": true,
     "schema_version": 3,
     "solution": false,
     "task": false
    }
   },
   "source": [
    "## Calculate and plot the DIFFERENCE between NDVI in 2017 and 2015. \n",
    "\n",
    "To calculate difference, **subtract the pre-fire data from the post fire data (post - pre)** to ensure that negative values represent a **decrease** in NDVI between the two years. \n",
    "\n",
    "### Hints:\n",
    "  - You can take the difference between subsequent dates using the `DataArray.diff('date')` method.\n",
    "  - Since you will be computing NDVI more than once, write a function to do that to keep your code DRY. **ALL functions should have numpy-style docstrings**"
   ]
  },
  {
   "cell_type": "code",
   "execution_count": null,
   "metadata": {
    "deletable": false,
    "extensions": {
     "jupyter_dashboards": {
      "version": 1,
      "views": {
       "grid_default": {},
       "report_default": {
        "hidden": true
       }
      }
     }
    },
    "nbgrader": {
     "cell_type": "code",
     "checksum": "37cea15bcc5942dbcf610755e413c3c1",
     "grade": false,
     "grade_id": "naip-ndvi-plot-data",
     "locked": false,
     "schema_version": 3,
     "solution": true,
     "task": false
    },
    "tags": [
     "hide"
    ]
   },
   "outputs": [],
   "source": [
    "# YOUR CODE HERE\n",
    "raise NotImplementedError()"
   ]
  },
  {
   "cell_type": "code",
   "execution_count": null,
   "metadata": {
    "deletable": false,
    "editable": false,
    "nbgrader": {
     "cell_type": "code",
     "checksum": "6cf86124369ff24a61e18b199aec28c1",
     "grade": true,
     "grade_id": "tests-ndvi",
     "locked": true,
     "points": 5,
     "schema_version": 3,
     "solution": false,
     "task": false
    }
   },
   "outputs": [],
   "source": [
    "# Tests for your cropped Xarray\n",
    "\n",
    "# BEGIN TESTS\n",
    "student_ndvi_da = _\n",
    "ndvi_da_points = 0\n",
    "\n",
    "if isinstance(student_ndvi_da, xr.DataArray):\n",
    "    print(\"\\u2705 Great job! Your data are stored in a DataArray!\")\n",
    "    ndvi_da_points += 1\n",
    "else:\n",
    "    print(\"\\u274C Oops, the data are not stored in a DataArray.\")\n",
    "\n",
    "if np.allclose(student_ndvi_da.mean(), (0.00394622)):\n",
    "    ndvi_da_points += 4\n",
    "    print(\"\\u2705 Data was cropped properly, good job!\")\n",
    "else:\n",
    "    print(\"\\u274C The data was not cropped properly.\")\n",
    "    \n",
    "print('You earned {} of 5 points'.format(ndvi_da_points))\n",
    "ndvi_da_points\n",
    "\n",
    "# END TESTS"
   ]
  },
  {
   "cell_type": "markdown",
   "metadata": {
    "deletable": false,
    "editable": false,
    "extensions": {
     "jupyter_dashboards": {
      "version": 1,
      "views": {
       "grid_default": {},
       "report_default": {
        "hidden": false
       }
      }
     }
    },
    "nbgrader": {
     "cell_type": "markdown",
     "checksum": "ed5f8481042e79f9e83ed3e2694200c0",
     "grade": false,
     "grade_id": "naip-ndvi-plot-question",
     "locked": true,
     "points": 10,
     "schema_version": 3,
     "solution": false,
     "task": true
    }
   },
   "source": [
    "# Create a Plot of the Difference NDVI from 2017 & 2015 (10 points)\n",
    "\n",
    "This plot should:\n",
    "  - Use the NAIP data downloaded from Earth Explorer.\n",
    "    - Ensure that the data from both years are clipped to the same extent, \n",
    "    - and are reprojected in the same CRS (this should already be done.)\n",
    "  - Include the Cold Springs fire polygon boundary on your plot.\n",
    "  - Include a descriptive title\n",
    "  - Include a labeled color bar\n",
    "  - Include an annotation stating the data source\n"
   ]
  },
  {
   "cell_type": "code",
   "execution_count": null,
   "metadata": {
    "deletable": false,
    "nbgrader": {
     "cell_type": "code",
     "checksum": "447cb6f52e37c1892013e3634187cb6a",
     "grade": false,
     "grade_id": "naip-ndvi-plot-answer",
     "locked": false,
     "schema_version": 3,
     "solution": true,
     "task": false
    }
   },
   "outputs": [],
   "source": [
    "# YOUR CODE HERE\n",
    "raise NotImplementedError()"
   ]
  },
  {
   "cell_type": "markdown",
   "metadata": {
    "deletable": false,
    "editable": false,
    "nbgrader": {
     "cell_type": "markdown",
     "checksum": "2dd28ecef89331d34677d7c93f343ed1",
     "grade": false,
     "grade_id": "naip-ndvi-written-question",
     "locked": true,
     "points": 5,
     "schema_version": 3,
     "solution": false,
     "task": true
    }
   },
   "source": [
    "## Question 2 (5 points)\n",
    "\n",
    "1. What do the negative dNDVI values in the plot above indicate?\n",
    "\n",
    "Write 1-3 sentences in the Markdown cell below.\n"
   ]
  },
  {
   "cell_type": "markdown",
   "metadata": {},
   "source": []
  },
  {
   "cell_type": "markdown",
   "metadata": {
    "deletable": false,
    "editable": false,
    "nbgrader": {
     "cell_type": "markdown",
     "checksum": "ebd411df22af2762e1469e4af160fadc",
     "grade": false,
     "grade_id": "pep8-checks",
     "locked": true,
     "points": 10,
     "schema_version": 3,
     "solution": false,
     "task": true
    }
   },
   "source": [
    "# Do not edit this cell! (10 points)\n",
    "The notebook will also be checked for overall clean code requirements as specified at the **very top** of this notebook! Some of these requirements include (review the top cells for more specifics): \n",
    "\n",
    "* Notebook begins at cell [1] and runs on any machine in its entirety.\n",
    "* PEP 8 format is applied throughout (including lengths of comment and code lines).\n",
    "* No additional code or imports in the notebook\n",
    "* Notebook is fully reproducible. This means:\n",
    "   * reproducible paths using the os module.\n",
    "   * data downloaded using code in the notebook.\n",
    "   * all imports at top of notebook."
   ]
  }
 ],
 "metadata": {
  "extensions": {
   "jupyter_dashboards": {
    "activeView": "report_default",
    "version": 1,
    "views": {
     "grid_default": {
      "name": "grid",
      "type": "grid"
     },
     "report_default": {
      "name": "report",
      "type": "report"
     }
    }
   }
  },
  "kernelspec": {
   "display_name": "Python 3 (ipykernel)",
   "language": "python",
   "name": "python3"
  },
  "language_info": {
   "codemirror_mode": {
    "name": "ipython",
    "version": 3
   },
   "file_extension": ".py",
   "mimetype": "text/x-python",
   "name": "python",
   "nbconvert_exporter": "python",
   "pygments_lexer": "ipython3",
   "version": "3.8.12"
  },
  "toc": {
   "base_numbering": 1,
   "nav_menu": {},
   "number_sections": true,
   "sideBar": true,
   "skip_h1_title": false,
   "title_cell": "Table of Contents",
   "title_sidebar": "Contents",
   "toc_cell": false,
   "toc_position": {},
   "toc_section_display": true,
   "toc_window_display": true
  },
  "varInspector": {
   "cols": {
    "lenName": 16,
    "lenType": 16,
    "lenVar": 40
   },
   "kernels_config": {
    "python": {
     "delete_cmd_postfix": "",
     "delete_cmd_prefix": "del ",
     "library": "var_list.py",
     "varRefreshCmd": "print(var_dic_list())"
    },
    "r": {
     "delete_cmd_postfix": ") ",
     "delete_cmd_prefix": "rm(",
     "library": "var_list.r",
     "varRefreshCmd": "cat(var_dic_list()) "
    }
   },
   "types_to_exclude": [
    "module",
    "function",
    "builtin_function_or_method",
    "instance",
    "_Feature"
   ],
   "window_display": false
  }
 },
 "nbformat": 4,
 "nbformat_minor": 2
}
